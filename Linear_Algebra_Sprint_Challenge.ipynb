{
  "nbformat": 4,
  "nbformat_minor": 0,
  "metadata": {
    "colab": {
      "name": "Linear_Algebra_Sprint_Challenge",
      "version": "0.3.2",
      "provenance": [],
      "include_colab_link": true
    },
    "kernelspec": {
      "name": "python3",
      "display_name": "Python 3"
    }
  },
  "cells": [
    {
      "cell_type": "markdown",
      "metadata": {
        "id": "view-in-github",
        "colab_type": "text"
      },
      "source": [
        "<a href=\"https://colab.research.google.com/github/will-cotton4/AB-Demo/blob/master/Linear_Algebra_Sprint_Challenge.ipynb\" target=\"_parent\"><img src=\"https://colab.research.google.com/assets/colab-badge.svg\" alt=\"Open In Colab\"/></a>"
      ]
    },
    {
      "metadata": {
        "id": "EhcSG53AKkaE",
        "colab_type": "code",
        "colab": {}
      },
      "cell_type": "code",
      "source": [
        "#Imports:\n",
        "import numpy as np\n",
        "import pandas as pd\n",
        "import matplotlib.pyplot as plt\n",
        "import matplotlib as mpl\n",
        "import math\n",
        "from mpl_toolkits.mplot3d import axes3d"
      ],
      "execution_count": 0,
      "outputs": []
    },
    {
      "metadata": {
        "id": "-wQxiT7yC4_v",
        "colab_type": "text"
      },
      "cell_type": "markdown",
      "source": [
        "#Linear Algebra"
      ]
    },
    {
      "metadata": {
        "id": "aiUlaNJkECCL",
        "colab_type": "text"
      },
      "cell_type": "markdown",
      "source": [
        "## 1.1 Graph vector $\\vec{a}$ \n",
        "\n",
        "\\begin{align}\n",
        "\\vec{a} = \\begin{bmatrix} 3 \\\\ 2 \\end{bmatrix}\n",
        "\\end{align}"
      ]
    },
    {
      "metadata": {
        "id": "QpCKt0n5IeiY",
        "colab_type": "code",
        "colab": {
          "base_uri": "https://localhost:8080/",
          "height": 269
        },
        "outputId": "e1539172-4fd7-4abe-ec2f-d4f836e8d8a7"
      },
      "cell_type": "code",
      "source": [
        "a = [3,2]\n",
        "\n",
        "plt.arrow(0,0, a[0], a[1], head_width=.2, head_length=0.2, color ='blue');\n",
        "axes = plt.gca();\n",
        "axes.vlines(ymin=-1, ymax=10, x=0)\n",
        "axes.hlines(xmin=-1, xmax=10, y=0)\n",
        "axes.set_xlim(-1, 5);\n",
        "axes.set_ylim(-1, 5);\n",
        "axes.grid();"
      ],
      "execution_count": 4,
      "outputs": [
        {
          "output_type": "display_data",
          "data": {
            "image/png": "[encoded data removed]",
            "text/plain": [
              "<Figure size 432x288 with 1 Axes>"
            ]
          },
          "metadata": {
            "tags": []
          }
        }
      ]
    },
    {
      "metadata": {
        "id": "BDLB08NXEiUN",
        "colab_type": "text"
      },
      "cell_type": "markdown",
      "source": [
        "## 1.2 Find $||\\vec{b}||$. What does the norm of a vector represent?\n",
        "\\begin{align}\n",
        "\\vec{b} = \\begin{bmatrix} 17 & -4 & -2 & 1\\end{bmatrix}\n",
        "\\end{align}\n"
      ]
    },
    {
      "metadata": {
        "id": "Fp3mocAKIfGD",
        "colab_type": "code",
        "colab": {
          "base_uri": "https://localhost:8080/",
          "height": 34
        },
        "outputId": "a3f95b6a-6be6-4aa6-8978-ee479b3c00c9"
      },
      "cell_type": "code",
      "source": [
        "b = [17, -4, -2, 1]\n",
        "\n",
        "#Norm of b (square root of dot product of b with b):\n",
        "\n",
        "print(np.dot(b,b)**(1/2))\n",
        "\n",
        "#This value represents the length of the vector b."
      ],
      "execution_count": 5,
      "outputs": [
        {
          "output_type": "stream",
          "text": [
            "17.60681686165901\n"
          ],
          "name": "stdout"
        }
      ]
    },
    {
      "metadata": {
        "id": "vBbJ0ZyPD6RG",
        "colab_type": "text"
      },
      "cell_type": "markdown",
      "source": [
        "## 1.3 Find $\\vec{c} \\cdot \\vec{d}$\n",
        "\n",
        "\\begin{align}\n",
        "\\vec{c} = \\begin{bmatrix}3 & 7 & -2 & 12\\end{bmatrix}\n",
        "\\qquad\n",
        "\\vec{d} = \\begin{bmatrix}9 & -7 & 4 & 6\\end{bmatrix}\n",
        "\\end{align}"
      ]
    },
    {
      "metadata": {
        "id": "NYb8BalmIfgY",
        "colab_type": "code",
        "colab": {
          "base_uri": "https://localhost:8080/",
          "height": 34
        },
        "outputId": "27b7029a-0217-464e-b660-11850e921227"
      },
      "cell_type": "code",
      "source": [
        "c = [3, 7, -2, 12]\n",
        "d = [9, -7, 4, 6]\n",
        "\n",
        "print(np.dot(c, d))"
      ],
      "execution_count": 6,
      "outputs": [
        {
          "output_type": "stream",
          "text": [
            "42\n"
          ],
          "name": "stdout"
        }
      ]
    },
    {
      "metadata": {
        "id": "gS85sJHWG7iU",
        "colab_type": "text"
      },
      "cell_type": "markdown",
      "source": [
        "## 1.4 Find $E^{-1}$ and $E^{T}$\n",
        "\n",
        "\\begin{align}\n",
        "E = \n",
        "\\begin{bmatrix}\n",
        "    7 & 4 & 2 \\\\\n",
        "    1 & 3 & -1 \\\\\n",
        "    2 & 6 & -4\n",
        "\\end{bmatrix}\n",
        "\\end{align}"
      ]
    },
    {
      "metadata": {
        "id": "QiISq5egIgSS",
        "colab_type": "code",
        "colab": {
          "base_uri": "https://localhost:8080/",
          "height": 204
        },
        "outputId": "62aac8e2-1d17-4ab1-a3fa-e0585d7f808d"
      },
      "cell_type": "code",
      "source": [
        "e = np.array([[7, 4, 2],\n",
        "    [1, 3, -1],\n",
        "    [2, 6, -4]])\n",
        "print(\"Inverse of e:\\n\\n\", np.linalg.inv(e))\n",
        "print(\"\\nTranspose of e:\\n\\n\", e.T)\n"
      ],
      "execution_count": 7,
      "outputs": [
        {
          "output_type": "stream",
          "text": [
            "Inverse of e:\n",
            "\n",
            " [[ 0.17647059 -0.82352941  0.29411765]\n",
            " [-0.05882353  0.94117647 -0.26470588]\n",
            " [ 0.          1.         -0.5       ]]\n",
            "\n",
            "Transpose of e:\n",
            "\n",
            " [[ 7  1  2]\n",
            " [ 4  3  6]\n",
            " [ 2 -1 -4]]\n"
          ],
          "name": "stdout"
        }
      ]
    },
    {
      "metadata": {
        "id": "TPzrKzEvC5YU",
        "colab_type": "text"
      },
      "cell_type": "markdown",
      "source": [
        "# Intermediate Linear Algebra"
      ]
    },
    {
      "metadata": {
        "id": "ap-us2lBGQyi",
        "colab_type": "text"
      },
      "cell_type": "markdown",
      "source": [
        "## 2.1 Suppose that the number of customers at a ski resort as well as the number of inches of fresh powder (snow)  was recorded for 7 days. \n",
        "\n",
        "### Customers: [820, 760, 1250, 990, 1080, 1450, 1600]\n",
        "\n",
        "### Inches of new snow: [0, 1, 7, 1, 0, 6, 4 ]\n",
        "\n",
        "## Find the mean, variance, and standard deviation for both the number of customers and inches of new snow for the week. You may use library functions, dataframes, .describe(), etc. \n",
        "\n"
      ]
    },
    {
      "metadata": {
        "id": "xS-JuHl9JiiP",
        "colab_type": "code",
        "outputId": "c620687b-3990-4db8-df95-ea7e15948ba6",
        "colab": {
          "base_uri": "https://localhost:8080/",
          "height": 204
        }
      },
      "cell_type": "code",
      "source": [
        "import pandas as pd\n",
        "\n",
        "customers = [820, 760, 1250, 990, 1080, 1450, 1600]\n",
        "snow = [0, 1, 7, 1, 0, 6, 4]\n",
        "\n",
        "df = pd.DataFrame({'customers': customers, 'snow': snow})\n",
        "\n",
        "df.head()"
      ],
      "execution_count": 8,
      "outputs": [
        {
          "output_type": "execute_result",
          "data": {
            "text/html": [
              "<div>\n",
              "<style scoped>\n",
              "    .dataframe tbody tr th:only-of-type {\n",
              "        vertical-align: middle;\n",
              "    }\n",
              "\n",
              "    .dataframe tbody tr th {\n",
              "        vertical-align: top;\n",
              "    }\n",
              "\n",
              "    .dataframe thead th {\n",
              "        text-align: right;\n",
              "    }\n",
              "</style>\n",
              "<table border=\"1\" class=\"dataframe\">\n",
              "  <thead>\n",
              "    <tr style=\"text-align: right;\">\n",
              "      <th></th>\n",
              "      <th>customers</th>\n",
              "      <th>snow</th>\n",
              "    </tr>\n",
              "  </thead>\n",
              "  <tbody>\n",
              "    <tr>\n",
              "      <th>0</th>\n",
              "      <td>820</td>\n",
              "      <td>0</td>\n",
              "    </tr>\n",
              "    <tr>\n",
              "      <th>1</th>\n",
              "      <td>760</td>\n",
              "      <td>1</td>\n",
              "    </tr>\n",
              "    <tr>\n",
              "      <th>2</th>\n",
              "      <td>1250</td>\n",
              "      <td>7</td>\n",
              "    </tr>\n",
              "    <tr>\n",
              "      <th>3</th>\n",
              "      <td>990</td>\n",
              "      <td>1</td>\n",
              "    </tr>\n",
              "    <tr>\n",
              "      <th>4</th>\n",
              "      <td>1080</td>\n",
              "      <td>0</td>\n",
              "    </tr>\n",
              "  </tbody>\n",
              "</table>\n",
              "</div>"
            ],
            "text/plain": [
              "   customers  snow\n",
              "0        820     0\n",
              "1        760     1\n",
              "2       1250     7\n",
              "3        990     1\n",
              "4       1080     0"
            ]
          },
          "metadata": {
            "tags": []
          },
          "execution_count": 8
        }
      ]
    },
    {
      "metadata": {
        "id": "cNxeVa0cg40d",
        "colab_type": "code",
        "colab": {
          "base_uri": "https://localhost:8080/",
          "height": 119
        },
        "outputId": "2b56d60c-5ce7-4d2b-a630-652313672d8c"
      },
      "cell_type": "code",
      "source": [
        "print(\"Mean customers: \", df.customers.mean())\n",
        "print(\"Mean snow increase: \", df.snow.mean())\n",
        "print(\"Standard deviation in customers: \", df.customers.std())\n",
        "print(\"Standard deviation in snow increase: \", df.snow.std())\n",
        "print(\"Variance in customers: \", df.customers.var())\n",
        "print(\"Variance in snow increase: \", df.snow.var())"
      ],
      "execution_count": 9,
      "outputs": [
        {
          "output_type": "stream",
          "text": [
            "Mean customers:  1135.7142857142858\n",
            "Mean snow increase:  2.7142857142857144\n",
            "Standard deviation in customers:  314.26406851866597\n",
            "Standard deviation in snow increase:  2.9277002188455996\n",
            "Variance in customers:  98761.90476190478\n",
            "Variance in snow increase:  8.571428571428571\n"
          ],
          "name": "stdout"
        }
      ]
    },
    {
      "metadata": {
        "id": "3ePJtK4VLTLH",
        "colab_type": "text"
      },
      "cell_type": "markdown",
      "source": [
        "## 2.2 Are the variances of the number of customers and inches of snow comparable? \n",
        "## Why or why not? "
      ]
    },
    {
      "metadata": {
        "id": "LykM5F5ZNwCn",
        "colab_type": "text"
      },
      "cell_type": "markdown",
      "source": [
        "** The values are not comparable in the sense that they're quite different; to take a closer look, let's look in depth at the statistics for each column:**"
      ]
    },
    {
      "metadata": {
        "id": "LvTtgZ-5Ndw_",
        "colab_type": "code",
        "colab": {
          "base_uri": "https://localhost:8080/",
          "height": 297
        },
        "outputId": "99c80c92-c5c2-4a32-ec10-97a74779c707"
      },
      "cell_type": "code",
      "source": [
        "df.describe()"
      ],
      "execution_count": 10,
      "outputs": [
        {
          "output_type": "execute_result",
          "data": {
            "text/html": [
              "<div>\n",
              "<style scoped>\n",
              "    .dataframe tbody tr th:only-of-type {\n",
              "        vertical-align: middle;\n",
              "    }\n",
              "\n",
              "    .dataframe tbody tr th {\n",
              "        vertical-align: top;\n",
              "    }\n",
              "\n",
              "    .dataframe thead th {\n",
              "        text-align: right;\n",
              "    }\n",
              "</style>\n",
              "<table border=\"1\" class=\"dataframe\">\n",
              "  <thead>\n",
              "    <tr style=\"text-align: right;\">\n",
              "      <th></th>\n",
              "      <th>customers</th>\n",
              "      <th>snow</th>\n",
              "    </tr>\n",
              "  </thead>\n",
              "  <tbody>\n",
              "    <tr>\n",
              "      <th>count</th>\n",
              "      <td>7.000000</td>\n",
              "      <td>7.000000</td>\n",
              "    </tr>\n",
              "    <tr>\n",
              "      <th>mean</th>\n",
              "      <td>1135.714286</td>\n",
              "      <td>2.714286</td>\n",
              "    </tr>\n",
              "    <tr>\n",
              "      <th>std</th>\n",
              "      <td>314.264069</td>\n",
              "      <td>2.927700</td>\n",
              "    </tr>\n",
              "    <tr>\n",
              "      <th>min</th>\n",
              "      <td>760.000000</td>\n",
              "      <td>0.000000</td>\n",
              "    </tr>\n",
              "    <tr>\n",
              "      <th>25%</th>\n",
              "      <td>905.000000</td>\n",
              "      <td>0.500000</td>\n",
              "    </tr>\n",
              "    <tr>\n",
              "      <th>50%</th>\n",
              "      <td>1080.000000</td>\n",
              "      <td>1.000000</td>\n",
              "    </tr>\n",
              "    <tr>\n",
              "      <th>75%</th>\n",
              "      <td>1350.000000</td>\n",
              "      <td>5.000000</td>\n",
              "    </tr>\n",
              "    <tr>\n",
              "      <th>max</th>\n",
              "      <td>1600.000000</td>\n",
              "      <td>7.000000</td>\n",
              "    </tr>\n",
              "  </tbody>\n",
              "</table>\n",
              "</div>"
            ],
            "text/plain": [
              "         customers      snow\n",
              "count     7.000000  7.000000\n",
              "mean   1135.714286  2.714286\n",
              "std     314.264069  2.927700\n",
              "min     760.000000  0.000000\n",
              "25%     905.000000  0.500000\n",
              "50%    1080.000000  1.000000\n",
              "75%    1350.000000  5.000000\n",
              "max    1600.000000  7.000000"
            ]
          },
          "metadata": {
            "tags": []
          },
          "execution_count": 10
        }
      ]
    },
    {
      "metadata": {
        "id": "pilgD-SfN9jN",
        "colab_type": "text"
      },
      "cell_type": "markdown",
      "source": [
        "**Because the means are so far apart, what appears to be a large variance in the customers column might not be as large as it seems; to clarify, let's normalize the values and check their statistics again:**"
      ]
    },
    {
      "metadata": {
        "id": "hQ9CI9ScOYtr",
        "colab_type": "code",
        "colab": {
          "base_uri": "https://localhost:8080/",
          "height": 297
        },
        "outputId": "8f9ab037-aec8-4c0a-a1c0-5e82982d7597"
      },
      "cell_type": "code",
      "source": [
        "df_normed = pd.DataFrame(columns = ['customers', 'snow'])\n",
        "df_normed['customers'] = df['customers']/df['customers'].mean()\n",
        "df_normed['snow'] = df['snow']/df['snow'].mean()\n",
        "df_normed.describe()"
      ],
      "execution_count": 11,
      "outputs": [
        {
          "output_type": "execute_result",
          "data": {
            "text/html": [
              "<div>\n",
              "<style scoped>\n",
              "    .dataframe tbody tr th:only-of-type {\n",
              "        vertical-align: middle;\n",
              "    }\n",
              "\n",
              "    .dataframe tbody tr th {\n",
              "        vertical-align: top;\n",
              "    }\n",
              "\n",
              "    .dataframe thead th {\n",
              "        text-align: right;\n",
              "    }\n",
              "</style>\n",
              "<table border=\"1\" class=\"dataframe\">\n",
              "  <thead>\n",
              "    <tr style=\"text-align: right;\">\n",
              "      <th></th>\n",
              "      <th>customers</th>\n",
              "      <th>snow</th>\n",
              "    </tr>\n",
              "  </thead>\n",
              "  <tbody>\n",
              "    <tr>\n",
              "      <th>count</th>\n",
              "      <td>7.000000</td>\n",
              "      <td>7.000000</td>\n",
              "    </tr>\n",
              "    <tr>\n",
              "      <th>mean</th>\n",
              "      <td>1.000000</td>\n",
              "      <td>1.000000</td>\n",
              "    </tr>\n",
              "    <tr>\n",
              "      <th>std</th>\n",
              "      <td>0.276711</td>\n",
              "      <td>1.078626</td>\n",
              "    </tr>\n",
              "    <tr>\n",
              "      <th>min</th>\n",
              "      <td>0.669182</td>\n",
              "      <td>0.000000</td>\n",
              "    </tr>\n",
              "    <tr>\n",
              "      <th>25%</th>\n",
              "      <td>0.796855</td>\n",
              "      <td>0.184211</td>\n",
              "    </tr>\n",
              "    <tr>\n",
              "      <th>50%</th>\n",
              "      <td>0.950943</td>\n",
              "      <td>0.368421</td>\n",
              "    </tr>\n",
              "    <tr>\n",
              "      <th>75%</th>\n",
              "      <td>1.188679</td>\n",
              "      <td>1.842105</td>\n",
              "    </tr>\n",
              "    <tr>\n",
              "      <th>max</th>\n",
              "      <td>1.408805</td>\n",
              "      <td>2.578947</td>\n",
              "    </tr>\n",
              "  </tbody>\n",
              "</table>\n",
              "</div>"
            ],
            "text/plain": [
              "       customers      snow\n",
              "count   7.000000  7.000000\n",
              "mean    1.000000  1.000000\n",
              "std     0.276711  1.078626\n",
              "min     0.669182  0.000000\n",
              "25%     0.796855  0.184211\n",
              "50%     0.950943  0.368421\n",
              "75%     1.188679  1.842105\n",
              "max     1.408805  2.578947"
            ]
          },
          "metadata": {
            "tags": []
          },
          "execution_count": 11
        }
      ]
    },
    {
      "metadata": {
        "id": "dPLZjIKyOt4l",
        "colab_type": "text"
      },
      "cell_type": "markdown",
      "source": [
        "** Now we can see that when we normalize the data to have a mean of 1, it's actually the snow column that's more spread out. Before normalizing, we might have expected the reverse to be true.**"
      ]
    },
    {
      "metadata": {
        "id": "ixhZVGxfGVFh",
        "colab_type": "text"
      },
      "cell_type": "markdown",
      "source": [
        "## 2.3 Find the variance-covariance matrix for the number of customers and inches of snow at the ski resort. "
      ]
    },
    {
      "metadata": {
        "id": "IbglmVaxJjO7",
        "colab_type": "code",
        "colab": {
          "base_uri": "https://localhost:8080/",
          "height": 111
        },
        "outputId": "8eda6434-5988-4154-af26-a7d68cec4119"
      },
      "cell_type": "code",
      "source": [
        "df.cov()"
      ],
      "execution_count": 12,
      "outputs": [
        {
          "output_type": "execute_result",
          "data": {
            "text/html": [
              "<div>\n",
              "<style scoped>\n",
              "    .dataframe tbody tr th:only-of-type {\n",
              "        vertical-align: middle;\n",
              "    }\n",
              "\n",
              "    .dataframe tbody tr th {\n",
              "        vertical-align: top;\n",
              "    }\n",
              "\n",
              "    .dataframe thead th {\n",
              "        text-align: right;\n",
              "    }\n",
              "</style>\n",
              "<table border=\"1\" class=\"dataframe\">\n",
              "  <thead>\n",
              "    <tr style=\"text-align: right;\">\n",
              "      <th></th>\n",
              "      <th>customers</th>\n",
              "      <th>snow</th>\n",
              "    </tr>\n",
              "  </thead>\n",
              "  <tbody>\n",
              "    <tr>\n",
              "      <th>customers</th>\n",
              "      <td>98761.904762</td>\n",
              "      <td>670.238095</td>\n",
              "    </tr>\n",
              "    <tr>\n",
              "      <th>snow</th>\n",
              "      <td>670.238095</td>\n",
              "      <td>8.571429</td>\n",
              "    </tr>\n",
              "  </tbody>\n",
              "</table>\n",
              "</div>"
            ],
            "text/plain": [
              "              customers        snow\n",
              "customers  98761.904762  670.238095\n",
              "snow         670.238095    8.571429"
            ]
          },
          "metadata": {
            "tags": []
          },
          "execution_count": 12
        }
      ]
    },
    {
      "metadata": {
        "id": "_e4CY9oqPDkp",
        "colab_type": "code",
        "colab": {
          "base_uri": "https://localhost:8080/",
          "height": 111
        },
        "outputId": "a50b39fd-66ed-40bd-ca47-8b4fbebb0c84"
      },
      "cell_type": "code",
      "source": [
        "#And for the normalized matrix:\n",
        "\n",
        "df_normed.cov()"
      ],
      "execution_count": 13,
      "outputs": [
        {
          "output_type": "execute_result",
          "data": {
            "text/html": [
              "<div>\n",
              "<style scoped>\n",
              "    .dataframe tbody tr th:only-of-type {\n",
              "        vertical-align: middle;\n",
              "    }\n",
              "\n",
              "    .dataframe tbody tr th {\n",
              "        vertical-align: top;\n",
              "    }\n",
              "\n",
              "    .dataframe thead th {\n",
              "        text-align: right;\n",
              "    }\n",
              "</style>\n",
              "<table border=\"1\" class=\"dataframe\">\n",
              "  <thead>\n",
              "    <tr style=\"text-align: right;\">\n",
              "      <th></th>\n",
              "      <th>customers</th>\n",
              "      <th>snow</th>\n",
              "    </tr>\n",
              "  </thead>\n",
              "  <tbody>\n",
              "    <tr>\n",
              "      <th>customers</th>\n",
              "      <td>0.076569</td>\n",
              "      <td>0.217422</td>\n",
              "    </tr>\n",
              "    <tr>\n",
              "      <th>snow</th>\n",
              "      <td>0.217422</td>\n",
              "      <td>1.163435</td>\n",
              "    </tr>\n",
              "  </tbody>\n",
              "</table>\n",
              "</div>"
            ],
            "text/plain": [
              "           customers      snow\n",
              "customers   0.076569  0.217422\n",
              "snow        0.217422  1.163435"
            ]
          },
          "metadata": {
            "tags": []
          },
          "execution_count": 13
        }
      ]
    },
    {
      "metadata": {
        "id": "6Ks3_TbNC5yJ",
        "colab_type": "text"
      },
      "cell_type": "markdown",
      "source": [
        "# PCA"
      ]
    },
    {
      "metadata": {
        "id": "f6qJAPaaOdzD",
        "colab_type": "text"
      },
      "cell_type": "markdown",
      "source": [
        "## 3.1 Standardize the data so that it has a mean of 0 and a standard deviation of 1. (You may use library functions)\n",
        "\n",
        "We have included some code to get you started so that you don't get stuck on something that isn't standardizing the data or PCA.\n",
        "\n",
        "This might be helpful:\n",
        "\n",
        "<https://scikit-learn.org/stable/modules/generated/sklearn.preprocessing.StandardScaler.html>"
      ]
    },
    {
      "metadata": {
        "id": "bogsxfNyJlAw",
        "colab_type": "code",
        "outputId": "64bb0815-93ee-4d8d-c23d-d457ec71212c",
        "colab": {
          "base_uri": "https://localhost:8080/",
          "height": 173
        }
      },
      "cell_type": "code",
      "source": [
        "# Let me get you some data to start you off.\n",
        "import pandas as pd\n",
        "\n",
        "data = {\"Country\": [\"England\",\"Wales\",\"Scotland\",\"North Ireland\"], \n",
        "        \"Cheese\": [105,103,103,66], \n",
        "        \"Carcass_Meat\": [245,227,242,267], \n",
        "        \"Other_Meat\": [685, 803, 750, 586], \n",
        "        \"Fish\": [147, 160, 122, 93], \n",
        "        \"Fats_and_Oils\": [193, 235, 184, 209], \n",
        "        \"Sugars\": [156, 175, 147, 139], \n",
        "        \"Fresh_Potatoes\": [720, 874, 566, 1033], \n",
        "        \"Fresh_Veg\": [253, 265, 171, 143], \n",
        "        \"Other_Veg\": [488, 570, 418, 355], \n",
        "        \"Processed_Potatoes\": [198, 203, 220, 187], \n",
        "        \"Processed_Veg\": [360, 365, 337, 334], \n",
        "        \"Fresh_Fruit\": [1102, 1137, 957, 674], \n",
        "        \"Cereals\": [1472, 1582, 1462, 1494], \n",
        "        \"Beverages\": [57,73,53,47], \n",
        "        \"Soft_Drinks\": [1374, 1256, 1572, 1506], \n",
        "        \"Alcoholic Drinks\": [375, 475, 458, 135], \n",
        "        \"Confectionery\": [54, 64, 62, 41]}\n",
        "\n",
        "df = pd.DataFrame(data)\n",
        "\n",
        "# Look at the data\n",
        "df.head()"
      ],
      "execution_count": 14,
      "outputs": [
        {
          "output_type": "execute_result",
          "data": {
            "text/html": [
              "<div>\n",
              "<style scoped>\n",
              "    .dataframe tbody tr th:only-of-type {\n",
              "        vertical-align: middle;\n",
              "    }\n",
              "\n",
              "    .dataframe tbody tr th {\n",
              "        vertical-align: top;\n",
              "    }\n",
              "\n",
              "    .dataframe thead th {\n",
              "        text-align: right;\n",
              "    }\n",
              "</style>\n",
              "<table border=\"1\" class=\"dataframe\">\n",
              "  <thead>\n",
              "    <tr style=\"text-align: right;\">\n",
              "      <th></th>\n",
              "      <th>Country</th>\n",
              "      <th>Cheese</th>\n",
              "      <th>Carcass_Meat</th>\n",
              "      <th>Other_Meat</th>\n",
              "      <th>Fish</th>\n",
              "      <th>Fats_and_Oils</th>\n",
              "      <th>Sugars</th>\n",
              "      <th>Fresh_Potatoes</th>\n",
              "      <th>Fresh_Veg</th>\n",
              "      <th>Other_Veg</th>\n",
              "      <th>Processed_Potatoes</th>\n",
              "      <th>Processed_Veg</th>\n",
              "      <th>Fresh_Fruit</th>\n",
              "      <th>Cereals</th>\n",
              "      <th>Beverages</th>\n",
              "      <th>Soft_Drinks</th>\n",
              "      <th>Alcoholic Drinks</th>\n",
              "      <th>Confectionery</th>\n",
              "    </tr>\n",
              "  </thead>\n",
              "  <tbody>\n",
              "    <tr>\n",
              "      <th>0</th>\n",
              "      <td>England</td>\n",
              "      <td>105</td>\n",
              "      <td>245</td>\n",
              "      <td>685</td>\n",
              "      <td>147</td>\n",
              "      <td>193</td>\n",
              "      <td>156</td>\n",
              "      <td>720</td>\n",
              "      <td>253</td>\n",
              "      <td>488</td>\n",
              "      <td>198</td>\n",
              "      <td>360</td>\n",
              "      <td>1102</td>\n",
              "      <td>1472</td>\n",
              "      <td>57</td>\n",
              "      <td>1374</td>\n",
              "      <td>375</td>\n",
              "      <td>54</td>\n",
              "    </tr>\n",
              "    <tr>\n",
              "      <th>1</th>\n",
              "      <td>Wales</td>\n",
              "      <td>103</td>\n",
              "      <td>227</td>\n",
              "      <td>803</td>\n",
              "      <td>160</td>\n",
              "      <td>235</td>\n",
              "      <td>175</td>\n",
              "      <td>874</td>\n",
              "      <td>265</td>\n",
              "      <td>570</td>\n",
              "      <td>203</td>\n",
              "      <td>365</td>\n",
              "      <td>1137</td>\n",
              "      <td>1582</td>\n",
              "      <td>73</td>\n",
              "      <td>1256</td>\n",
              "      <td>475</td>\n",
              "      <td>64</td>\n",
              "    </tr>\n",
              "    <tr>\n",
              "      <th>2</th>\n",
              "      <td>Scotland</td>\n",
              "      <td>103</td>\n",
              "      <td>242</td>\n",
              "      <td>750</td>\n",
              "      <td>122</td>\n",
              "      <td>184</td>\n",
              "      <td>147</td>\n",
              "      <td>566</td>\n",
              "      <td>171</td>\n",
              "      <td>418</td>\n",
              "      <td>220</td>\n",
              "      <td>337</td>\n",
              "      <td>957</td>\n",
              "      <td>1462</td>\n",
              "      <td>53</td>\n",
              "      <td>1572</td>\n",
              "      <td>458</td>\n",
              "      <td>62</td>\n",
              "    </tr>\n",
              "    <tr>\n",
              "      <th>3</th>\n",
              "      <td>North Ireland</td>\n",
              "      <td>66</td>\n",
              "      <td>267</td>\n",
              "      <td>586</td>\n",
              "      <td>93</td>\n",
              "      <td>209</td>\n",
              "      <td>139</td>\n",
              "      <td>1033</td>\n",
              "      <td>143</td>\n",
              "      <td>355</td>\n",
              "      <td>187</td>\n",
              "      <td>334</td>\n",
              "      <td>674</td>\n",
              "      <td>1494</td>\n",
              "      <td>47</td>\n",
              "      <td>1506</td>\n",
              "      <td>135</td>\n",
              "      <td>41</td>\n",
              "    </tr>\n",
              "  </tbody>\n",
              "</table>\n",
              "</div>"
            ],
            "text/plain": [
              "         Country  Cheese  Carcass_Meat  Other_Meat  Fish  Fats_and_Oils  \\\n",
              "0        England     105           245         685   147            193   \n",
              "1          Wales     103           227         803   160            235   \n",
              "2       Scotland     103           242         750   122            184   \n",
              "3  North Ireland      66           267         586    93            209   \n",
              "\n",
              "   Sugars  Fresh_Potatoes  Fresh_Veg  Other_Veg  Processed_Potatoes  \\\n",
              "0     156             720        253        488                 198   \n",
              "1     175             874        265        570                 203   \n",
              "2     147             566        171        418                 220   \n",
              "3     139            1033        143        355                 187   \n",
              "\n",
              "   Processed_Veg  Fresh_Fruit  Cereals  Beverages  Soft_Drinks  \\\n",
              "0            360         1102     1472         57         1374   \n",
              "1            365         1137     1582         73         1256   \n",
              "2            337          957     1462         53         1572   \n",
              "3            334          674     1494         47         1506   \n",
              "\n",
              "   Alcoholic Drinks  Confectionery  \n",
              "0               375             54  \n",
              "1               475             64  \n",
              "2               458             62  \n",
              "3               135             41  "
            ]
          },
          "metadata": {
            "tags": []
          },
          "execution_count": 14
        }
      ]
    },
    {
      "metadata": {
        "id": "hfUa-YFZR5Zp",
        "colab_type": "code",
        "colab": {
          "base_uri": "https://localhost:8080/",
          "height": 34
        },
        "outputId": "60ca4c9a-58cb-4baa-f04c-629138b6203e"
      },
      "cell_type": "code",
      "source": [
        "df.shape"
      ],
      "execution_count": 15,
      "outputs": [
        {
          "output_type": "execute_result",
          "data": {
            "text/plain": [
              "(4, 18)"
            ]
          },
          "metadata": {
            "tags": []
          },
          "execution_count": 15
        }
      ]
    },
    {
      "metadata": {
        "id": "2HY91nOpaTTZ",
        "colab_type": "code",
        "colab": {
          "base_uri": "https://localhost:8080/",
          "height": 314
        },
        "outputId": "2ca4607d-7a5d-4e2f-b2a4-aee3eb5342f3"
      },
      "cell_type": "code",
      "source": [
        "#First, standardize each column to have mean 0 (skipping country column):\n",
        "\n",
        "df_standard = df\n",
        "\n",
        "for column in df_standard.columns[1:]:\n",
        "  df_standard[column] = df_standard[column]-df_standard[column].mean()\n",
        "\n",
        "df_standard.describe()"
      ],
      "execution_count": 16,
      "outputs": [
        {
          "output_type": "execute_result",
          "data": {
            "text/html": [
              "<div>\n",
              "<style scoped>\n",
              "    .dataframe tbody tr th:only-of-type {\n",
              "        vertical-align: middle;\n",
              "    }\n",
              "\n",
              "    .dataframe tbody tr th {\n",
              "        vertical-align: top;\n",
              "    }\n",
              "\n",
              "    .dataframe thead th {\n",
              "        text-align: right;\n",
              "    }\n",
              "</style>\n",
              "<table border=\"1\" class=\"dataframe\">\n",
              "  <thead>\n",
              "    <tr style=\"text-align: right;\">\n",
              "      <th></th>\n",
              "      <th>Cheese</th>\n",
              "      <th>Carcass_Meat</th>\n",
              "      <th>Other_Meat</th>\n",
              "      <th>Fish</th>\n",
              "      <th>Fats_and_Oils</th>\n",
              "      <th>Sugars</th>\n",
              "      <th>Fresh_Potatoes</th>\n",
              "      <th>Fresh_Veg</th>\n",
              "      <th>Other_Veg</th>\n",
              "      <th>Processed_Potatoes</th>\n",
              "      <th>Processed_Veg</th>\n",
              "      <th>Fresh_Fruit</th>\n",
              "      <th>Cereals</th>\n",
              "      <th>Beverages</th>\n",
              "      <th>Soft_Drinks</th>\n",
              "      <th>Alcoholic Drinks</th>\n",
              "      <th>Confectionery</th>\n",
              "    </tr>\n",
              "  </thead>\n",
              "  <tbody>\n",
              "    <tr>\n",
              "      <th>count</th>\n",
              "      <td>4.000000</td>\n",
              "      <td>4.00</td>\n",
              "      <td>4.000000</td>\n",
              "      <td>4.000000</td>\n",
              "      <td>4.000000</td>\n",
              "      <td>4.00000</td>\n",
              "      <td>4.000000</td>\n",
              "      <td>4.000000</td>\n",
              "      <td>4.000000</td>\n",
              "      <td>4.000000</td>\n",
              "      <td>4.000000</td>\n",
              "      <td>4.000000</td>\n",
              "      <td>4.000000</td>\n",
              "      <td>4.000000</td>\n",
              "      <td>4.000000</td>\n",
              "      <td>4.000000</td>\n",
              "      <td>4.000000</td>\n",
              "    </tr>\n",
              "    <tr>\n",
              "      <th>mean</th>\n",
              "      <td>0.000000</td>\n",
              "      <td>0.00</td>\n",
              "      <td>0.000000</td>\n",
              "      <td>0.000000</td>\n",
              "      <td>0.000000</td>\n",
              "      <td>0.00000</td>\n",
              "      <td>0.000000</td>\n",
              "      <td>0.000000</td>\n",
              "      <td>0.000000</td>\n",
              "      <td>0.000000</td>\n",
              "      <td>0.000000</td>\n",
              "      <td>0.000000</td>\n",
              "      <td>0.000000</td>\n",
              "      <td>0.000000</td>\n",
              "      <td>0.000000</td>\n",
              "      <td>0.000000</td>\n",
              "      <td>0.000000</td>\n",
              "    </tr>\n",
              "    <tr>\n",
              "      <th>std</th>\n",
              "      <td>18.856917</td>\n",
              "      <td>16.50</td>\n",
              "      <td>93.427334</td>\n",
              "      <td>29.557853</td>\n",
              "      <td>22.366269</td>\n",
              "      <td>15.47848</td>\n",
              "      <td>200.755863</td>\n",
              "      <td>60.188592</td>\n",
              "      <td>92.471167</td>\n",
              "      <td>13.735599</td>\n",
              "      <td>15.769168</td>\n",
              "      <td>210.612599</td>\n",
              "      <td>54.659552</td>\n",
              "      <td>11.120552</td>\n",
              "      <td>140.612944</td>\n",
              "      <td>156.712848</td>\n",
              "      <td>10.436315</td>\n",
              "    </tr>\n",
              "    <tr>\n",
              "      <th>min</th>\n",
              "      <td>-28.250000</td>\n",
              "      <td>-18.25</td>\n",
              "      <td>-120.000000</td>\n",
              "      <td>-37.500000</td>\n",
              "      <td>-21.250000</td>\n",
              "      <td>-15.25000</td>\n",
              "      <td>-232.250000</td>\n",
              "      <td>-65.000000</td>\n",
              "      <td>-102.750000</td>\n",
              "      <td>-15.000000</td>\n",
              "      <td>-15.000000</td>\n",
              "      <td>-293.500000</td>\n",
              "      <td>-40.500000</td>\n",
              "      <td>-10.500000</td>\n",
              "      <td>-171.000000</td>\n",
              "      <td>-225.750000</td>\n",
              "      <td>-14.250000</td>\n",
              "    </tr>\n",
              "    <tr>\n",
              "      <th>25%</th>\n",
              "      <td>-0.500000</td>\n",
              "      <td>-7.00</td>\n",
              "      <td>-45.750000</td>\n",
              "      <td>-15.750000</td>\n",
              "      <td>-14.500000</td>\n",
              "      <td>-9.25000</td>\n",
              "      <td>-116.750000</td>\n",
              "      <td>-44.000000</td>\n",
              "      <td>-55.500000</td>\n",
              "      <td>-6.750000</td>\n",
              "      <td>-12.750000</td>\n",
              "      <td>-81.250000</td>\n",
              "      <td>-33.000000</td>\n",
              "      <td>-6.000000</td>\n",
              "      <td>-82.500000</td>\n",
              "      <td>-45.750000</td>\n",
              "      <td>-4.500000</td>\n",
              "    </tr>\n",
              "    <tr>\n",
              "      <th>50%</th>\n",
              "      <td>8.750000</td>\n",
              "      <td>-1.75</td>\n",
              "      <td>11.500000</td>\n",
              "      <td>4.000000</td>\n",
              "      <td>-4.250000</td>\n",
              "      <td>-2.75000</td>\n",
              "      <td>-1.250000</td>\n",
              "      <td>4.000000</td>\n",
              "      <td>-4.750000</td>\n",
              "      <td>-1.500000</td>\n",
              "      <td>-0.500000</td>\n",
              "      <td>62.000000</td>\n",
              "      <td>-19.500000</td>\n",
              "      <td>-2.500000</td>\n",
              "      <td>13.000000</td>\n",
              "      <td>55.750000</td>\n",
              "      <td>2.750000</td>\n",
              "    </tr>\n",
              "    <tr>\n",
              "      <th>75%</th>\n",
              "      <td>9.250000</td>\n",
              "      <td>5.25</td>\n",
              "      <td>57.250000</td>\n",
              "      <td>19.750000</td>\n",
              "      <td>10.250000</td>\n",
              "      <td>6.50000</td>\n",
              "      <td>115.500000</td>\n",
              "      <td>48.000000</td>\n",
              "      <td>50.750000</td>\n",
              "      <td>5.250000</td>\n",
              "      <td>12.250000</td>\n",
              "      <td>143.250000</td>\n",
              "      <td>13.500000</td>\n",
              "      <td>3.500000</td>\n",
              "      <td>95.500000</td>\n",
              "      <td>101.500000</td>\n",
              "      <td>7.250000</td>\n",
              "    </tr>\n",
              "    <tr>\n",
              "      <th>max</th>\n",
              "      <td>10.750000</td>\n",
              "      <td>21.75</td>\n",
              "      <td>97.000000</td>\n",
              "      <td>29.500000</td>\n",
              "      <td>29.750000</td>\n",
              "      <td>20.75000</td>\n",
              "      <td>234.750000</td>\n",
              "      <td>57.000000</td>\n",
              "      <td>112.250000</td>\n",
              "      <td>18.000000</td>\n",
              "      <td>16.000000</td>\n",
              "      <td>169.500000</td>\n",
              "      <td>79.500000</td>\n",
              "      <td>15.500000</td>\n",
              "      <td>145.000000</td>\n",
              "      <td>114.250000</td>\n",
              "      <td>8.750000</td>\n",
              "    </tr>\n",
              "  </tbody>\n",
              "</table>\n",
              "</div>"
            ],
            "text/plain": [
              "          Cheese  Carcass_Meat  Other_Meat       Fish  Fats_and_Oils  \\\n",
              "count   4.000000          4.00    4.000000   4.000000       4.000000   \n",
              "mean    0.000000          0.00    0.000000   0.000000       0.000000   \n",
              "std    18.856917         16.50   93.427334  29.557853      22.366269   \n",
              "min   -28.250000        -18.25 -120.000000 -37.500000     -21.250000   \n",
              "25%    -0.500000         -7.00  -45.750000 -15.750000     -14.500000   \n",
              "50%     8.750000         -1.75   11.500000   4.000000      -4.250000   \n",
              "75%     9.250000          5.25   57.250000  19.750000      10.250000   \n",
              "max    10.750000         21.75   97.000000  29.500000      29.750000   \n",
              "\n",
              "         Sugars  Fresh_Potatoes  Fresh_Veg   Other_Veg  Processed_Potatoes  \\\n",
              "count   4.00000        4.000000   4.000000    4.000000            4.000000   \n",
              "mean    0.00000        0.000000   0.000000    0.000000            0.000000   \n",
              "std    15.47848      200.755863  60.188592   92.471167           13.735599   \n",
              "min   -15.25000     -232.250000 -65.000000 -102.750000          -15.000000   \n",
              "25%    -9.25000     -116.750000 -44.000000  -55.500000           -6.750000   \n",
              "50%    -2.75000       -1.250000   4.000000   -4.750000           -1.500000   \n",
              "75%     6.50000      115.500000  48.000000   50.750000            5.250000   \n",
              "max    20.75000      234.750000  57.000000  112.250000           18.000000   \n",
              "\n",
              "       Processed_Veg  Fresh_Fruit    Cereals  Beverages  Soft_Drinks  \\\n",
              "count       4.000000     4.000000   4.000000   4.000000     4.000000   \n",
              "mean        0.000000     0.000000   0.000000   0.000000     0.000000   \n",
              "std        15.769168   210.612599  54.659552  11.120552   140.612944   \n",
              "min       -15.000000  -293.500000 -40.500000 -10.500000  -171.000000   \n",
              "25%       -12.750000   -81.250000 -33.000000  -6.000000   -82.500000   \n",
              "50%        -0.500000    62.000000 -19.500000  -2.500000    13.000000   \n",
              "75%        12.250000   143.250000  13.500000   3.500000    95.500000   \n",
              "max        16.000000   169.500000  79.500000  15.500000   145.000000   \n",
              "\n",
              "       Alcoholic Drinks  Confectionery  \n",
              "count          4.000000       4.000000  \n",
              "mean           0.000000       0.000000  \n",
              "std          156.712848      10.436315  \n",
              "min         -225.750000     -14.250000  \n",
              "25%          -45.750000      -4.500000  \n",
              "50%           55.750000       2.750000  \n",
              "75%          101.500000       7.250000  \n",
              "max          114.250000       8.750000  "
            ]
          },
          "metadata": {
            "tags": []
          },
          "execution_count": 16
        }
      ]
    },
    {
      "metadata": {
        "id": "_0DSCpT2QAf6",
        "colab_type": "code",
        "colab": {
          "base_uri": "https://localhost:8080/",
          "height": 402
        },
        "outputId": "8a1bc7dd-0cd7-472b-a216-1cf8b37e91f6"
      },
      "cell_type": "code",
      "source": [
        "#Now normalize to standard deviation 1:\n",
        "\n",
        "for column in df_standard.columns[1:]:\n",
        "  df_standard[column] = df_standard[column]/df_standard[column].std()\n",
        "\n",
        "df_standard.describe()"
      ],
      "execution_count": 17,
      "outputs": [
        {
          "output_type": "execute_result",
          "data": {
            "text/html": [
              "<div>\n",
              "<style scoped>\n",
              "    .dataframe tbody tr th:only-of-type {\n",
              "        vertical-align: middle;\n",
              "    }\n",
              "\n",
              "    .dataframe tbody tr th {\n",
              "        vertical-align: top;\n",
              "    }\n",
              "\n",
              "    .dataframe thead th {\n",
              "        text-align: right;\n",
              "    }\n",
              "</style>\n",
              "<table border=\"1\" class=\"dataframe\">\n",
              "  <thead>\n",
              "    <tr style=\"text-align: right;\">\n",
              "      <th></th>\n",
              "      <th>Cheese</th>\n",
              "      <th>Carcass_Meat</th>\n",
              "      <th>Other_Meat</th>\n",
              "      <th>Fish</th>\n",
              "      <th>Fats_and_Oils</th>\n",
              "      <th>Sugars</th>\n",
              "      <th>Fresh_Potatoes</th>\n",
              "      <th>Fresh_Veg</th>\n",
              "      <th>Other_Veg</th>\n",
              "      <th>Processed_Potatoes</th>\n",
              "      <th>Processed_Veg</th>\n",
              "      <th>Fresh_Fruit</th>\n",
              "      <th>Cereals</th>\n",
              "      <th>Beverages</th>\n",
              "      <th>Soft_Drinks</th>\n",
              "      <th>Alcoholic Drinks</th>\n",
              "      <th>Confectionery</th>\n",
              "    </tr>\n",
              "  </thead>\n",
              "  <tbody>\n",
              "    <tr>\n",
              "      <th>count</th>\n",
              "      <td>4.000000</td>\n",
              "      <td>4.000000</td>\n",
              "      <td>4.000000e+00</td>\n",
              "      <td>4.000000</td>\n",
              "      <td>4.000000e+00</td>\n",
              "      <td>4.000000</td>\n",
              "      <td>4.000000</td>\n",
              "      <td>4.000000e+00</td>\n",
              "      <td>4.000000</td>\n",
              "      <td>4.000000</td>\n",
              "      <td>4.000000e+00</td>\n",
              "      <td>4.000000</td>\n",
              "      <td>4.000000e+00</td>\n",
              "      <td>4.000000e+00</td>\n",
              "      <td>4.000000e+00</td>\n",
              "      <td>4.000000</td>\n",
              "      <td>4.000000</td>\n",
              "    </tr>\n",
              "    <tr>\n",
              "      <th>mean</th>\n",
              "      <td>0.000000</td>\n",
              "      <td>0.000000</td>\n",
              "      <td>-5.551115e-17</td>\n",
              "      <td>0.000000</td>\n",
              "      <td>1.387779e-17</td>\n",
              "      <td>0.000000</td>\n",
              "      <td>0.000000</td>\n",
              "      <td>5.551115e-17</td>\n",
              "      <td>0.000000</td>\n",
              "      <td>0.000000</td>\n",
              "      <td>2.775558e-17</td>\n",
              "      <td>0.000000</td>\n",
              "      <td>-1.387779e-17</td>\n",
              "      <td>5.551115e-17</td>\n",
              "      <td>-2.775558e-17</td>\n",
              "      <td>0.000000</td>\n",
              "      <td>0.000000</td>\n",
              "    </tr>\n",
              "    <tr>\n",
              "      <th>std</th>\n",
              "      <td>1.000000</td>\n",
              "      <td>1.000000</td>\n",
              "      <td>1.000000e+00</td>\n",
              "      <td>1.000000</td>\n",
              "      <td>1.000000e+00</td>\n",
              "      <td>1.000000</td>\n",
              "      <td>1.000000</td>\n",
              "      <td>1.000000e+00</td>\n",
              "      <td>1.000000</td>\n",
              "      <td>1.000000</td>\n",
              "      <td>1.000000e+00</td>\n",
              "      <td>1.000000</td>\n",
              "      <td>1.000000e+00</td>\n",
              "      <td>1.000000e+00</td>\n",
              "      <td>1.000000e+00</td>\n",
              "      <td>1.000000</td>\n",
              "      <td>1.000000</td>\n",
              "    </tr>\n",
              "    <tr>\n",
              "      <th>min</th>\n",
              "      <td>-1.498124</td>\n",
              "      <td>-1.106061</td>\n",
              "      <td>-1.284421e+00</td>\n",
              "      <td>-1.268698</td>\n",
              "      <td>-9.500914e-01</td>\n",
              "      <td>-0.985239</td>\n",
              "      <td>-1.156878</td>\n",
              "      <td>-1.079939e+00</td>\n",
              "      <td>-1.111157</td>\n",
              "      <td>-1.092053</td>\n",
              "      <td>-9.512233e-01</td>\n",
              "      <td>-1.393554</td>\n",
              "      <td>-7.409501e-01</td>\n",
              "      <td>-9.441978e-01</td>\n",
              "      <td>-1.216104e+00</td>\n",
              "      <td>-1.440533</td>\n",
              "      <td>-1.365425</td>\n",
              "    </tr>\n",
              "    <tr>\n",
              "      <th>25%</th>\n",
              "      <td>-0.026515</td>\n",
              "      <td>-0.424242</td>\n",
              "      <td>-4.896854e-01</td>\n",
              "      <td>-0.532853</td>\n",
              "      <td>-6.482977e-01</td>\n",
              "      <td>-0.597604</td>\n",
              "      <td>-0.581552</td>\n",
              "      <td>-7.310355e-01</td>\n",
              "      <td>-0.600187</td>\n",
              "      <td>-0.491424</td>\n",
              "      <td>-8.085398e-01</td>\n",
              "      <td>-0.385779</td>\n",
              "      <td>-6.037371e-01</td>\n",
              "      <td>-5.395416e-01</td>\n",
              "      <td>-5.867170e-01</td>\n",
              "      <td>-0.291935</td>\n",
              "      <td>-0.431187</td>\n",
              "    </tr>\n",
              "    <tr>\n",
              "      <th>50%</th>\n",
              "      <td>0.464021</td>\n",
              "      <td>-0.106061</td>\n",
              "      <td>1.230903e-01</td>\n",
              "      <td>0.135328</td>\n",
              "      <td>-1.900183e-01</td>\n",
              "      <td>-0.177666</td>\n",
              "      <td>-0.006226</td>\n",
              "      <td>6.645778e-02</td>\n",
              "      <td>-0.051367</td>\n",
              "      <td>-0.109205</td>\n",
              "      <td>-3.170744e-02</td>\n",
              "      <td>0.294379</td>\n",
              "      <td>-3.567537e-01</td>\n",
              "      <td>-2.248090e-01</td>\n",
              "      <td>9.245237e-02</td>\n",
              "      <td>0.355746</td>\n",
              "      <td>0.263503</td>\n",
              "    </tr>\n",
              "    <tr>\n",
              "      <th>75%</th>\n",
              "      <td>0.490536</td>\n",
              "      <td>0.318182</td>\n",
              "      <td>6.127757e-01</td>\n",
              "      <td>0.668181</td>\n",
              "      <td>4.582794e-01</td>\n",
              "      <td>0.419938</td>\n",
              "      <td>0.575326</td>\n",
              "      <td>7.974933e-01</td>\n",
              "      <td>0.548820</td>\n",
              "      <td>0.382219</td>\n",
              "      <td>7.768323e-01</td>\n",
              "      <td>0.680159</td>\n",
              "      <td>2.469834e-01</td>\n",
              "      <td>3.147326e-01</td>\n",
              "      <td>6.791693e-01</td>\n",
              "      <td>0.647681</td>\n",
              "      <td>0.694690</td>\n",
              "    </tr>\n",
              "    <tr>\n",
              "      <th>max</th>\n",
              "      <td>0.570083</td>\n",
              "      <td>1.318182</td>\n",
              "      <td>1.038240e+00</td>\n",
              "      <td>0.998043</td>\n",
              "      <td>1.330128e+00</td>\n",
              "      <td>1.340571</td>\n",
              "      <td>1.169331</td>\n",
              "      <td>9.470233e-01</td>\n",
              "      <td>1.213892</td>\n",
              "      <td>1.310463</td>\n",
              "      <td>1.014638e+00</td>\n",
              "      <td>0.804795</td>\n",
              "      <td>1.454458e+00</td>\n",
              "      <td>1.393816e+00</td>\n",
              "      <td>1.031200e+00</td>\n",
              "      <td>0.729040</td>\n",
              "      <td>0.838419</td>\n",
              "    </tr>\n",
              "  </tbody>\n",
              "</table>\n",
              "</div>"
            ],
            "text/plain": [
              "         Cheese  Carcass_Meat    Other_Meat      Fish  Fats_and_Oils  \\\n",
              "count  4.000000      4.000000  4.000000e+00  4.000000   4.000000e+00   \n",
              "mean   0.000000      0.000000 -5.551115e-17  0.000000   1.387779e-17   \n",
              "std    1.000000      1.000000  1.000000e+00  1.000000   1.000000e+00   \n",
              "min   -1.498124     -1.106061 -1.284421e+00 -1.268698  -9.500914e-01   \n",
              "25%   -0.026515     -0.424242 -4.896854e-01 -0.532853  -6.482977e-01   \n",
              "50%    0.464021     -0.106061  1.230903e-01  0.135328  -1.900183e-01   \n",
              "75%    0.490536      0.318182  6.127757e-01  0.668181   4.582794e-01   \n",
              "max    0.570083      1.318182  1.038240e+00  0.998043   1.330128e+00   \n",
              "\n",
              "         Sugars  Fresh_Potatoes     Fresh_Veg  Other_Veg  Processed_Potatoes  \\\n",
              "count  4.000000        4.000000  4.000000e+00   4.000000            4.000000   \n",
              "mean   0.000000        0.000000  5.551115e-17   0.000000            0.000000   \n",
              "std    1.000000        1.000000  1.000000e+00   1.000000            1.000000   \n",
              "min   -0.985239       -1.156878 -1.079939e+00  -1.111157           -1.092053   \n",
              "25%   -0.597604       -0.581552 -7.310355e-01  -0.600187           -0.491424   \n",
              "50%   -0.177666       -0.006226  6.645778e-02  -0.051367           -0.109205   \n",
              "75%    0.419938        0.575326  7.974933e-01   0.548820            0.382219   \n",
              "max    1.340571        1.169331  9.470233e-01   1.213892            1.310463   \n",
              "\n",
              "       Processed_Veg  Fresh_Fruit       Cereals     Beverages   Soft_Drinks  \\\n",
              "count   4.000000e+00     4.000000  4.000000e+00  4.000000e+00  4.000000e+00   \n",
              "mean    2.775558e-17     0.000000 -1.387779e-17  5.551115e-17 -2.775558e-17   \n",
              "std     1.000000e+00     1.000000  1.000000e+00  1.000000e+00  1.000000e+00   \n",
              "min    -9.512233e-01    -1.393554 -7.409501e-01 -9.441978e-01 -1.216104e+00   \n",
              "25%    -8.085398e-01    -0.385779 -6.037371e-01 -5.395416e-01 -5.867170e-01   \n",
              "50%    -3.170744e-02     0.294379 -3.567537e-01 -2.248090e-01  9.245237e-02   \n",
              "75%     7.768323e-01     0.680159  2.469834e-01  3.147326e-01  6.791693e-01   \n",
              "max     1.014638e+00     0.804795  1.454458e+00  1.393816e+00  1.031200e+00   \n",
              "\n",
              "       Alcoholic Drinks  Confectionery  \n",
              "count          4.000000       4.000000  \n",
              "mean           0.000000       0.000000  \n",
              "std            1.000000       1.000000  \n",
              "min           -1.440533      -1.365425  \n",
              "25%           -0.291935      -0.431187  \n",
              "50%            0.355746       0.263503  \n",
              "75%            0.647681       0.694690  \n",
              "max            0.729040       0.838419  "
            ]
          },
          "metadata": {
            "tags": []
          },
          "execution_count": 17
        }
      ]
    },
    {
      "metadata": {
        "id": "5U50KZkdJb_s",
        "colab_type": "text"
      },
      "cell_type": "markdown",
      "source": [
        "## 3.2 Perform PCA on the data and graph Principal Component 1 against Principal Component 2. (You may use library functions)\n",
        "\n",
        "This might be helpful:\n",
        "\n",
        "<https://scikit-learn.org/stable/modules/generated/sklearn.decomposition.PCA.html>"
      ]
    },
    {
      "metadata": {
        "id": "RqjwVokgP1fL",
        "colab_type": "code",
        "colab": {
          "base_uri": "https://localhost:8080/",
          "height": 303
        },
        "outputId": "93c87a2a-d15a-4c84-8c4f-2ad03963f7d0"
      },
      "cell_type": "code",
      "source": [
        "from numpy import array\n",
        "from sklearn.decomposition import PCA\n",
        "\n",
        "features = df_standard.columns[1:]\n",
        "\n",
        "\n",
        "x = df_standard.loc[:, features]\n",
        "y = df_standard.loc[:, 'Country']\n",
        "\n",
        "pca = PCA(n_components = 2)\n",
        "\n",
        "principalComponents = pca.fit_transform(x)\n",
        "\n",
        "principalCompDF = pd.DataFrame(data = principalComponents,\n",
        "                            columns = ['pc1', 'pc2'])\n",
        "\n",
        "plt.style.use('fivethirtyeight')\n",
        "plt.scatter(x=principalCompDF['pc1'], y=principalCompDF['pc2'])"
      ],
      "execution_count": 18,
      "outputs": [
        {
          "output_type": "execute_result",
          "data": {
            "text/plain": [
              "<matplotlib.collections.PathCollection at 0x7f98fe146908>"
            ]
          },
          "metadata": {
            "tags": []
          },
          "execution_count": 18
        },
        {
          "output_type": "display_data",
          "data": {
            "image/png": "[encoded data removed]",
            "text/plain": [
              "<Figure size 432x288 with 1 Axes>"
            ]
          },
          "metadata": {
            "tags": []
          }
        }
      ]
    },
    {
      "metadata": {
        "id": "0C2aiTJqQ9AE",
        "colab_type": "code",
        "colab": {
          "base_uri": "https://localhost:8080/",
          "height": 173
        },
        "outputId": "7e1ad371-81bc-4ca2-d5e6-c4e75bf80d04"
      },
      "cell_type": "code",
      "source": [
        "principalCompDF"
      ],
      "execution_count": 19,
      "outputs": [
        {
          "output_type": "execute_result",
          "data": {
            "text/html": [
              "<div>\n",
              "<style scoped>\n",
              "    .dataframe tbody tr th:only-of-type {\n",
              "        vertical-align: middle;\n",
              "    }\n",
              "\n",
              "    .dataframe tbody tr th {\n",
              "        vertical-align: top;\n",
              "    }\n",
              "\n",
              "    .dataframe thead th {\n",
              "        text-align: right;\n",
              "    }\n",
              "</style>\n",
              "<table border=\"1\" class=\"dataframe\">\n",
              "  <thead>\n",
              "    <tr style=\"text-align: right;\">\n",
              "      <th></th>\n",
              "      <th>pc1</th>\n",
              "      <th>pc2</th>\n",
              "    </tr>\n",
              "  </thead>\n",
              "  <tbody>\n",
              "    <tr>\n",
              "      <th>0</th>\n",
              "      <td>-0.826612</td>\n",
              "      <td>0.284332</td>\n",
              "    </tr>\n",
              "    <tr>\n",
              "      <th>1</th>\n",
              "      <td>-3.915258</td>\n",
              "      <td>-1.502883</td>\n",
              "    </tr>\n",
              "    <tr>\n",
              "      <th>2</th>\n",
              "      <td>0.422602</td>\n",
              "      <td>2.800442</td>\n",
              "    </tr>\n",
              "    <tr>\n",
              "      <th>3</th>\n",
              "      <td>4.319269</td>\n",
              "      <td>-1.581891</td>\n",
              "    </tr>\n",
              "  </tbody>\n",
              "</table>\n",
              "</div>"
            ],
            "text/plain": [
              "        pc1       pc2\n",
              "0 -0.826612  0.284332\n",
              "1 -3.915258 -1.502883\n",
              "2  0.422602  2.800442\n",
              "3  4.319269 -1.581891"
            ]
          },
          "metadata": {
            "tags": []
          },
          "execution_count": 19
        }
      ]
    },
    {
      "metadata": {
        "id": "z-RzYKR0C6Wg",
        "colab_type": "text"
      },
      "cell_type": "markdown",
      "source": [
        "# Clustering"
      ]
    },
    {
      "metadata": {
        "id": "62efk4plJe54",
        "colab_type": "text"
      },
      "cell_type": "markdown",
      "source": [
        "## 4.1 Use K-Means to cluster the following data and then graph your results. (You may use library functions)\n",
        "\n",
        "We have included some code to get you started so that you don't get stuck on something that isn't standardizing clustering.\n",
        "\n",
        "Prioritize calculating the clusters over graphing them. \n",
        "\n",
        "Scikit-Learn K-Means Documentation:\n",
        "\n",
        "<https://scikit-learn.org/stable/modules/generated/sklearn.cluster.KMeans.html>"
      ]
    },
    {
      "metadata": {
        "id": "miK5Aeg-JlzJ",
        "colab_type": "code",
        "outputId": "97085918-1251-48ee-80be-ba666e2f1f64",
        "colab": {
          "base_uri": "https://localhost:8080/",
          "height": 204
        }
      },
      "cell_type": "code",
      "source": [
        "points = pd.read_csv('https://raw.githubusercontent.com/ryanleeallred/datasets/master/points.csv')\n",
        "points.head()"
      ],
      "execution_count": 87,
      "outputs": [
        {
          "output_type": "execute_result",
          "data": {
            "text/html": [
              "<div>\n",
              "<style scoped>\n",
              "    .dataframe tbody tr th:only-of-type {\n",
              "        vertical-align: middle;\n",
              "    }\n",
              "\n",
              "    .dataframe tbody tr th {\n",
              "        vertical-align: top;\n",
              "    }\n",
              "\n",
              "    .dataframe thead th {\n",
              "        text-align: right;\n",
              "    }\n",
              "</style>\n",
              "<table border=\"1\" class=\"dataframe\">\n",
              "  <thead>\n",
              "    <tr style=\"text-align: right;\">\n",
              "      <th></th>\n",
              "      <th>x</th>\n",
              "      <th>y</th>\n",
              "    </tr>\n",
              "  </thead>\n",
              "  <tbody>\n",
              "    <tr>\n",
              "      <th>0</th>\n",
              "      <td>-7.846803</td>\n",
              "      <td>-3.421277</td>\n",
              "    </tr>\n",
              "    <tr>\n",
              "      <th>1</th>\n",
              "      <td>-3.554323</td>\n",
              "      <td>-6.884729</td>\n",
              "    </tr>\n",
              "    <tr>\n",
              "      <th>2</th>\n",
              "      <td>-0.192822</td>\n",
              "      <td>-9.671030</td>\n",
              "    </tr>\n",
              "    <tr>\n",
              "      <th>3</th>\n",
              "      <td>-6.401456</td>\n",
              "      <td>-5.223972</td>\n",
              "    </tr>\n",
              "    <tr>\n",
              "      <th>4</th>\n",
              "      <td>-0.804026</td>\n",
              "      <td>-9.704457</td>\n",
              "    </tr>\n",
              "  </tbody>\n",
              "</table>\n",
              "</div>"
            ],
            "text/plain": [
              "          x         y\n",
              "0 -7.846803 -3.421277\n",
              "1 -3.554323 -6.884729\n",
              "2 -0.192822 -9.671030\n",
              "3 -6.401456 -5.223972\n",
              "4 -0.804026 -9.704457"
            ]
          },
          "metadata": {
            "tags": []
          },
          "execution_count": 87
        }
      ]
    },
    {
      "metadata": {
        "id": "sO_ZDbUYTAvl",
        "colab_type": "code",
        "colab": {
          "base_uri": "https://localhost:8080/",
          "height": 297
        },
        "outputId": "d1cfa086-521e-4b8e-f00c-fa1ccf7c0fd8"
      },
      "cell_type": "code",
      "source": [
        "#Checking for reasonable bounds on graph:\n",
        "points.describe()"
      ],
      "execution_count": 88,
      "outputs": [
        {
          "output_type": "execute_result",
          "data": {
            "text/html": [
              "<div>\n",
              "<style scoped>\n",
              "    .dataframe tbody tr th:only-of-type {\n",
              "        vertical-align: middle;\n",
              "    }\n",
              "\n",
              "    .dataframe tbody tr th {\n",
              "        vertical-align: top;\n",
              "    }\n",
              "\n",
              "    .dataframe thead th {\n",
              "        text-align: right;\n",
              "    }\n",
              "</style>\n",
              "<table border=\"1\" class=\"dataframe\">\n",
              "  <thead>\n",
              "    <tr style=\"text-align: right;\">\n",
              "      <th></th>\n",
              "      <th>x</th>\n",
              "      <th>y</th>\n",
              "    </tr>\n",
              "  </thead>\n",
              "  <tbody>\n",
              "    <tr>\n",
              "      <th>count</th>\n",
              "      <td>200.000000</td>\n",
              "      <td>200.000000</td>\n",
              "    </tr>\n",
              "    <tr>\n",
              "      <th>mean</th>\n",
              "      <td>-2.323298</td>\n",
              "      <td>-3.422869</td>\n",
              "    </tr>\n",
              "    <tr>\n",
              "      <th>std</th>\n",
              "      <td>4.556513</td>\n",
              "      <td>5.580888</td>\n",
              "    </tr>\n",
              "    <tr>\n",
              "      <th>min</th>\n",
              "      <td>-10.118473</td>\n",
              "      <td>-11.095795</td>\n",
              "    </tr>\n",
              "    <tr>\n",
              "      <th>25%</th>\n",
              "      <td>-4.619520</td>\n",
              "      <td>-8.246848</td>\n",
              "    </tr>\n",
              "    <tr>\n",
              "      <th>50%</th>\n",
              "      <td>-3.373794</td>\n",
              "      <td>-5.307697</td>\n",
              "    </tr>\n",
              "    <tr>\n",
              "      <th>75%</th>\n",
              "      <td>-0.427175</td>\n",
              "      <td>3.360028</td>\n",
              "    </tr>\n",
              "    <tr>\n",
              "      <th>max</th>\n",
              "      <td>7.807885</td>\n",
              "      <td>5.883054</td>\n",
              "    </tr>\n",
              "  </tbody>\n",
              "</table>\n",
              "</div>"
            ],
            "text/plain": [
              "                x           y\n",
              "count  200.000000  200.000000\n",
              "mean    -2.323298   -3.422869\n",
              "std      4.556513    5.580888\n",
              "min    -10.118473  -11.095795\n",
              "25%     -4.619520   -8.246848\n",
              "50%     -3.373794   -5.307697\n",
              "75%     -0.427175    3.360028\n",
              "max      7.807885    5.883054"
            ]
          },
          "metadata": {
            "tags": []
          },
          "execution_count": 88
        }
      ]
    },
    {
      "metadata": {
        "id": "qX0zKKznTzcI",
        "colab_type": "code",
        "colab": {}
      },
      "cell_type": "code",
      "source": [
        "from sklearn.cluster import KMeans\n",
        "\n",
        "k = 2\n",
        "\n",
        "kmeans = KMeans(n_clusters = k, random_state=0)\n",
        "\n",
        "kmeans.fit(points)\n",
        "\n",
        "two_clusters = points\n",
        "two_clusters['clusters'] = kmeans.labels_"
      ],
      "execution_count": 0,
      "outputs": []
    },
    {
      "metadata": {
        "id": "LpUtB44iSPpF",
        "colab_type": "code",
        "colab": {
          "base_uri": "https://localhost:8080/",
          "height": 940
        },
        "outputId": "1687f7ed-4e85-42df-a0a0-e94aef19802c"
      },
      "cell_type": "code",
      "source": [
        "fig, ax = plt.subplots(figsize=(20,15))\n",
        "plt.scatter(two_clusters['x'], two_clusters['y'], \n",
        "            c=two_clusters['clusters'], cmap = 'rainbow');\n",
        "ax.set_xlim(-14, 10)\n",
        "ax.set_ylim(-13, 9)"
      ],
      "execution_count": 90,
      "outputs": [
        {
          "output_type": "execute_result",
          "data": {
            "text/plain": [
              "(-13, 9)"
            ]
          },
          "metadata": {
            "tags": []
          },
          "execution_count": 90
        },
        {
          "output_type": "display_data",
          "data": {
            "image/png": "[encoded data removed]",
            "text/plain": [
              "<Figure size 1440x1080 with 1 Axes>"
            ]
          },
          "metadata": {
            "tags": []
          }
        }
      ]
    },
    {
      "metadata": {
        "id": "BIU-B1GmS8LJ",
        "colab_type": "text"
      },
      "cell_type": "markdown",
      "source": [
        "**Looks like it's \"really\" five clusters; let's try again.**"
      ]
    },
    {
      "metadata": {
        "id": "UDBh9qRcUk89",
        "colab_type": "code",
        "colab": {
          "base_uri": "https://localhost:8080/",
          "height": 940
        },
        "outputId": "e1759459-09ed-4317-c488-b0c7f16bea07"
      },
      "cell_type": "code",
      "source": [
        "k = 5\n",
        "\n",
        "kmeans = KMeans(n_clusters = k, random_state=0)\n",
        "\n",
        "kmeans.fit(points)\n",
        "\n",
        "five_clusters = points\n",
        "five_clusters['clusters'] = kmeans.labels_\n",
        "\n",
        "fig, ax = plt.subplots(figsize=(20,15))\n",
        "plt.scatter(five_clusters['x'], five_clusters['y'], \n",
        "            c=five_clusters['clusters'], cmap = 'rainbow');\n",
        "ax.set_xlim(-14, 10)\n",
        "ax.set_ylim(-13, 9)"
      ],
      "execution_count": 91,
      "outputs": [
        {
          "output_type": "execute_result",
          "data": {
            "text/plain": [
              "(-13, 9)"
            ]
          },
          "metadata": {
            "tags": []
          },
          "execution_count": 91
        },
        {
          "output_type": "display_data",
          "data": {
            "image/png": "[encoded data removed]",
            "text/plain": [
              "<Figure size 1440x1080 with 1 Axes>"
            ]
          },
          "metadata": {
            "tags": []
          }
        }
      ]
    },
    {
      "metadata": {
        "id": "340McY_pWeL4",
        "colab_type": "code",
        "colab": {
          "base_uri": "https://localhost:8080/",
          "height": 235
        },
        "outputId": "ade533d7-5739-47ff-e361-2fb5986a5746"
      },
      "cell_type": "code",
      "source": [
        "five_clusters.groupby(by='clusters').agg('mean')"
      ],
      "execution_count": 92,
      "outputs": [
        {
          "output_type": "execute_result",
          "data": {
            "text/html": [
              "<div>\n",
              "<style scoped>\n",
              "    .dataframe tbody tr th:only-of-type {\n",
              "        vertical-align: middle;\n",
              "    }\n",
              "\n",
              "    .dataframe tbody tr th {\n",
              "        vertical-align: top;\n",
              "    }\n",
              "\n",
              "    .dataframe thead th {\n",
              "        text-align: right;\n",
              "    }\n",
              "</style>\n",
              "<table border=\"1\" class=\"dataframe\">\n",
              "  <thead>\n",
              "    <tr style=\"text-align: right;\">\n",
              "      <th></th>\n",
              "      <th>x</th>\n",
              "      <th>y</th>\n",
              "    </tr>\n",
              "    <tr>\n",
              "      <th>clusters</th>\n",
              "      <th></th>\n",
              "      <th></th>\n",
              "    </tr>\n",
              "  </thead>\n",
              "  <tbody>\n",
              "    <tr>\n",
              "      <th>0</th>\n",
              "      <td>-3.780539</td>\n",
              "      <td>-7.605906</td>\n",
              "    </tr>\n",
              "    <tr>\n",
              "      <th>1</th>\n",
              "      <td>6.249793</td>\n",
              "      <td>3.844572</td>\n",
              "    </tr>\n",
              "    <tr>\n",
              "      <th>2</th>\n",
              "      <td>-3.597407</td>\n",
              "      <td>4.133441</td>\n",
              "    </tr>\n",
              "    <tr>\n",
              "      <th>3</th>\n",
              "      <td>-0.476115</td>\n",
              "      <td>-9.494754</td>\n",
              "    </tr>\n",
              "    <tr>\n",
              "      <th>4</th>\n",
              "      <td>-8.366530</td>\n",
              "      <td>-3.612381</td>\n",
              "    </tr>\n",
              "  </tbody>\n",
              "</table>\n",
              "</div>"
            ],
            "text/plain": [
              "                 x         y\n",
              "clusters                    \n",
              "0        -3.780539 -7.605906\n",
              "1         6.249793  3.844572\n",
              "2        -3.597407  4.133441\n",
              "3        -0.476115 -9.494754\n",
              "4        -8.366530 -3.612381"
            ]
          },
          "metadata": {
            "tags": []
          },
          "execution_count": 92
        }
      ]
    },
    {
      "metadata": {
        "id": "sSLBV6I7UwCX",
        "colab_type": "text"
      },
      "cell_type": "markdown",
      "source": [
        "**Nice. Maybe we'll make it a bit more programmatic and run an elbow plot. Just for fun.**"
      ]
    },
    {
      "metadata": {
        "id": "5ktozKVvjDcb",
        "colab_type": "text"
      },
      "cell_type": "markdown",
      "source": [
        "## This big chunk is broken. I tried to write my own code to find the sum of squared distances... didn't go so well. I tried again in the next section."
      ]
    },
    {
      "metadata": {
        "id": "__e0E8ffU1um",
        "colab_type": "code",
        "colab": {}
      },
      "cell_type": "code",
      "source": [
        "from scipy.spatial.distance import cdist \n",
        "k = 1\n",
        "\n",
        "dists = []\n",
        "squared_dists = []\n",
        "\n",
        "squared_dist = pd.DataFrame(columns = ['x', 'y', \n",
        "                                       'cluster', 'dist', \n",
        "                                       'center_x', 'center_y'])\n",
        "\n",
        "\n",
        "while k <= 50:\n",
        "  \n",
        "  kmeans = KMeans(n_clusters = k)\n",
        "  kmeans.fit(points)\n",
        "  \n",
        "  #Put stuff in dataframe for computing centroid and checking distance:\n",
        "  squared_dist[['x', 'y']] = points[['x', 'y']]\n",
        "  squared_dist['cluster'] = kmeans.labels_\n",
        "  \n",
        "  #Groupby cluster so we can easily compute centroid\n",
        "  grouped=squared_dist[['x','y','cluster']].groupby(by='cluster').agg('mean')\n",
        "  \n",
        "  for cluster_num in grouped.index:\n",
        "    same_cluster = (squared_dist['cluster']==cluster_num)\n",
        "    squared_dist.loc[same_cluster,'center_x'] = grouped.loc[cluster_num].x\n",
        "    squared_dist.loc[same_cluster,'center_y'] = grouped.loc[cluster_num].y\n",
        "    \n",
        "  centers = squared_dist[['center_x', 'center_y']]\n",
        "  data_points  = squared_dist[['x', 'y']]\n",
        "  squared_dist['dist'] = cdist(data_points, centers, 'euclidean')\n",
        "  \n",
        "  k+=1\n",
        "\n",
        "  squared_dists.append(squared_dist['dist'].apply(lambda x: x**2).sum())\n",
        "  dists.append(squared_dist['dist'].sum())"
      ],
      "execution_count": 0,
      "outputs": []
    },
    {
      "metadata": {
        "id": "sw7PMqr-fLxf",
        "colab_type": "code",
        "colab": {
          "base_uri": "https://localhost:8080/",
          "height": 867
        },
        "outputId": "62d62145-d5a5-42a8-9b0d-8b22cdba3445"
      },
      "cell_type": "code",
      "source": [
        "squared_dists"
      ],
      "execution_count": 112,
      "outputs": [
        {
          "output_type": "execute_result",
          "data": {
            "text/plain": [
              "[10329.71582137223,\n",
              " 13641.337620561046,\n",
              " 15836.680179685478,\n",
              " 17641.0286521964,\n",
              " 17641.0286521964,\n",
              " 17641.0286521964,\n",
              " 17641.0286521964,\n",
              " 17641.0286521964,\n",
              " 17881.499857814822,\n",
              " 16292.602947985599,\n",
              " 16292.602947985599,\n",
              " 15631.776991204151,\n",
              " 18462.99055568618,\n",
              " 16816.788172307162,\n",
              " 16816.788172307162,\n",
              " 17872.862414219555,\n",
              " 17620.489624531263,\n",
              " 17872.862414219555,\n",
              " 16816.788172307162,\n",
              " 16816.788172307162,\n",
              " 16410.498948364417,\n",
              " 16816.788172307162,\n",
              " 16410.498948364417,\n",
              " 16659.789888630272,\n",
              " 16410.498948364417,\n",
              " 16816.788172307162,\n",
              " 17084.361535756943,\n",
              " 16816.788172307162,\n",
              " 16919.85956423862,\n",
              " 17447.56926844083,\n",
              " 17447.56926844083,\n",
              " 17084.361535756943,\n",
              " 17555.184789040977,\n",
              " 17084.361535756943,\n",
              " 17328.177276960014,\n",
              " 17084.361535756943,\n",
              " 16865.758314777366,\n",
              " 16865.758314777366,\n",
              " 17328.177276960014,\n",
              " 17555.184789040977,\n",
              " 16865.758314777366,\n",
              " 17084.361535756943,\n",
              " 16865.758314777366,\n",
              " 16726.537356525514,\n",
              " 16865.758314777366,\n",
              " 16865.758314777366,\n",
              " 16442.267115285664,\n",
              " 16865.758314777366,\n",
              " 16865.758314777366,\n",
              " 16865.758314777366]"
            ]
          },
          "metadata": {
            "tags": []
          },
          "execution_count": 112
        }
      ]
    },
    {
      "metadata": {
        "id": "I8wbQeeegtfX",
        "colab_type": "code",
        "colab": {
          "base_uri": "https://localhost:8080/",
          "height": 3417
        },
        "outputId": "fd889ff9-63bc-4889-db4a-75b690608ade"
      },
      "cell_type": "code",
      "source": [
        "dists"
      ],
      "execution_count": 107,
      "outputs": [
        {
          "output_type": "execute_result",
          "data": {
            "text/plain": [
              "[1346.878950801409,\n",
              " 1300.341173888421,\n",
              " 1662.6579524295107,\n",
              " 1625.0004912505456,\n",
              " 1625.0004912505456,\n",
              " 1625.0004912505456,\n",
              " 1625.0004912505456,\n",
              " 1625.0004912505456,\n",
              " 1625.0004912505456,\n",
              " 1504.7324901595996,\n",
              " 1651.3804369223853,\n",
              " 1651.3804369223853,\n",
              " 1640.1154070767157,\n",
              " 1603.3077786118988,\n",
              " 1638.7983239734249,\n",
              " 1640.1154070767157,\n",
              " 1582.5231228524642,\n",
              " 1640.1154070767157,\n",
              " 1640.1154070767157,\n",
              " 1640.1154070767157,\n",
              " 1596.161907712526,\n",
              " 1582.5231228524642,\n",
              " 1592.4870195218,\n",
              " 1592.4870195218,\n",
              " 1582.5231228524642,\n",
              " 1632.7155245416388,\n",
              " 1582.304925113646,\n",
              " 1597.519266047341,\n",
              " 1635.688407027204,\n",
              " 1635.688407027204,\n",
              " 1635.688407027204,\n",
              " 1623.4769811601197,\n",
              " 1597.519266047341,\n",
              " 1625.2280566331426,\n",
              " 1623.4769811601197,\n",
              " 1608.2248951063816,\n",
              " 1598.3785254767768,\n",
              " 1614.42765596703,\n",
              " 1623.4769811601197,\n",
              " 1598.3785254767768,\n",
              " 1588.1142872906917,\n",
              " 1629.1226627105145,\n",
              " 1598.3785254767768,\n",
              " 1598.3785254767768,\n",
              " 1575.2030491810128,\n",
              " 1598.3785254767768,\n",
              " 1598.3785254767768,\n",
              " 1598.3785254767768,\n",
              " 1598.3785254767768,\n",
              " 1598.3785254767768,\n",
              " 1598.3785254767768,\n",
              " 1598.3785254767768,\n",
              " 1598.3785254767768,\n",
              " 1598.3785254767768,\n",
              " 1599.6177404774744,\n",
              " 1575.2030491810128,\n",
              " 1598.3785254767768,\n",
              " 1598.3785254767768,\n",
              " 1588.1142872906917,\n",
              " 1598.3785254767768,\n",
              " 1575.2030491810128,\n",
              " 1598.3785254767768,\n",
              " 1570.2649286951741,\n",
              " 1575.2030491810128,\n",
              " 1575.2030491810128,\n",
              " 1587.334328009728,\n",
              " 1575.2030491810128,\n",
              " 1575.2030491810128,\n",
              " 1587.334328009728,\n",
              " 1570.2649286951741,\n",
              " 1569.675487184449,\n",
              " 1575.2030491810128,\n",
              " 1570.2649286951741,\n",
              " 1575.2030491810128,\n",
              " 1598.3785254767768,\n",
              " 1575.2030491810128,\n",
              " 1570.2649286951741,\n",
              " 1575.2030491810128,\n",
              " 1598.3785254767768,\n",
              " 1570.2649286951741,\n",
              " 1570.2649286951741,\n",
              " 1575.2030491810128,\n",
              " 1575.2030491810128,\n",
              " 1570.2649286951741,\n",
              " 1570.2649286951741,\n",
              " 1575.2030491810128,\n",
              " 1575.2030491810128,\n",
              " 1569.675487184449,\n",
              " 1575.2030491810128,\n",
              " 1570.2649286951741,\n",
              " 1575.2030491810128,\n",
              " 1559.4288298838978,\n",
              " 1575.2030491810128,\n",
              " 1575.2030491810128,\n",
              " 1559.4288298838978,\n",
              " 1575.2030491810128,\n",
              " 1570.2649286951741,\n",
              " 1584.6005881550095,\n",
              " 1559.4288298838978,\n",
              " 1559.4288298838978,\n",
              " 1570.2649286951741,\n",
              " 1570.2649286951741,\n",
              " 1559.4288298838978,\n",
              " 1559.4288298838978,\n",
              " 1582.221098592247,\n",
              " 1597.4332345857874,\n",
              " 1570.2649286951741,\n",
              " 1570.2649286951741,\n",
              " 1597.4332345857874,\n",
              " 1559.4288298838978,\n",
              " 1570.2649286951741,\n",
              " 1559.4288298838978,\n",
              " 1587.334328009728,\n",
              " 1559.4288298838978,\n",
              " 1570.2649286951741,\n",
              " 1570.2649286951741,\n",
              " 1570.2649286951741,\n",
              " 1582.221098592247,\n",
              " 1559.4288298838978,\n",
              " 1570.2649286951741,\n",
              " 1559.4288298838978,\n",
              " 1559.4288298838978,\n",
              " 1582.221098592247,\n",
              " 1559.4288298838978,\n",
              " 1559.4288298838978,\n",
              " 1582.221098592247,\n",
              " 1559.4288298838978,\n",
              " 1597.4332345857874,\n",
              " 1570.2649286951741,\n",
              " 1580.2836756960323,\n",
              " 1559.4288298838978,\n",
              " 1597.4332345857874,\n",
              " 1559.4288298838978,\n",
              " 1559.4288298838978,\n",
              " 1570.1271827947182,\n",
              " 1559.4288298838978,\n",
              " 1582.221098592247,\n",
              " 1559.4288298838978,\n",
              " 1559.4288298838978,\n",
              " 1559.4288298838978,\n",
              " 1570.1271827947182,\n",
              " 1570.1271827947182,\n",
              " 1570.1271827947182,\n",
              " 1570.1271827947182,\n",
              " 1582.221098592247,\n",
              " 1570.1271827947182,\n",
              " 1559.4288298838978,\n",
              " 1570.1271827947182,\n",
              " 1570.1271827947182,\n",
              " 1570.1271827947182,\n",
              " 1570.1271827947182,\n",
              " 1570.1271827947182,\n",
              " 1570.1271827947182,\n",
              " 1570.1271827947182,\n",
              " 1570.1271827947182,\n",
              " 1570.1271827947182,\n",
              " 1570.1271827947182,\n",
              " 1570.1271827947182,\n",
              " 1570.1271827947182,\n",
              " 1570.1271827947182,\n",
              " 1570.1271827947182,\n",
              " 1570.1271827947182,\n",
              " 1570.1271827947182,\n",
              " 1570.1271827947182,\n",
              " 1570.1271827947182,\n",
              " 1570.1271827947182,\n",
              " 1570.1271827947182,\n",
              " 1570.1271827947182,\n",
              " 1570.1271827947182,\n",
              " 1570.1271827947182,\n",
              " 1570.1271827947182,\n",
              " 1570.1271827947182,\n",
              " 1570.1271827947182,\n",
              " 1570.1271827947182,\n",
              " 1570.1271827947182,\n",
              " 1570.1271827947182,\n",
              " 1570.1271827947182,\n",
              " 1570.1271827947182,\n",
              " 1570.1271827947182,\n",
              " 1570.1271827947182,\n",
              " 1570.1271827947182,\n",
              " 1570.1271827947182,\n",
              " 1570.1271827947182,\n",
              " 1570.1271827947182,\n",
              " 1570.1271827947182,\n",
              " 1570.1271827947182,\n",
              " 1570.1271827947182,\n",
              " 1570.1271827947182,\n",
              " 1570.1271827947182,\n",
              " 1570.1271827947182,\n",
              " 1570.1271827947182,\n",
              " 1570.1271827947182,\n",
              " 1570.1271827947182,\n",
              " 1570.1271827947182,\n",
              " 1570.1271827947182,\n",
              " 1570.1271827947182,\n",
              " 1570.1271827947182,\n",
              " 1570.1271827947182,\n",
              " 1570.1271827947182,\n",
              " 1570.1271827947182]"
            ]
          },
          "metadata": {
            "tags": []
          },
          "execution_count": 107
        }
      ]
    },
    {
      "metadata": {
        "id": "YE9C1D4hhsek",
        "colab_type": "code",
        "colab": {
          "base_uri": "https://localhost:8080/",
          "height": 940
        },
        "outputId": "2ecd934f-7f88-468d-806d-e46ed79c04cc"
      },
      "cell_type": "code",
      "source": [
        "fig, ax = plt.subplots(figsize=(20,15))\n",
        "plt.scatter(squared_dist['x'], squared_dist['y'], \n",
        "            squared_dist['cluster'], cmap = 'rainbow');\n",
        "ax.set_xlim(-14, 10)\n",
        "ax.set_ylim(-13, 9)"
      ],
      "execution_count": 110,
      "outputs": [
        {
          "output_type": "execute_result",
          "data": {
            "text/plain": [
              "(-13, 9)"
            ]
          },
          "metadata": {
            "tags": []
          },
          "execution_count": 110
        },
        {
          "output_type": "display_data",
          "data": {
            "image/png": "[encoded data removed]",
            "text/plain": [
              "<Figure size 1440x1080 with 1 Axes>"
            ]
          },
          "metadata": {
            "tags": []
          }
        }
      ]
    },
    {
      "metadata": {
        "id": "wqSN_lHJiHnx",
        "colab_type": "text"
      },
      "cell_type": "markdown",
      "source": [
        "**Hmm. Something's not working here; the centroids don't seem to be updating properly.**"
      ]
    },
    {
      "metadata": {
        "id": "oEIZMu-ei6E7",
        "colab_type": "text"
      },
      "cell_type": "markdown",
      "source": [
        "## That's what I get for not reading the lecture notebooks carefully, I guess. There's actually a working graph in here. (Running the code again will probably take a long time, so I don't recommend it.)"
      ]
    },
    {
      "metadata": {
        "id": "mbwYCrRSiMlQ",
        "colab_type": "code",
        "colab": {}
      },
      "cell_type": "code",
      "source": [
        "sum_of_squared_distances = []\n",
        "K = range(1,200)\n",
        "for k in K:\n",
        "    km = KMeans(n_clusters=k)\n",
        "    km = km.fit(points)\n",
        "    sum_of_squared_distances.append(km.inertia_)"
      ],
      "execution_count": 0,
      "outputs": []
    },
    {
      "metadata": {
        "id": "QhKTXCQ8j5JR",
        "colab_type": "code",
        "colab": {
          "base_uri": "https://localhost:8080/",
          "height": 3400
        },
        "outputId": "50417b28-06ce-471c-f3bc-a13563ac8be4"
      },
      "cell_type": "code",
      "source": [
        "sum_of_squared_distances"
      ],
      "execution_count": 117,
      "outputs": [
        {
          "output_type": "execute_result",
          "data": {
            "text/plain": [
              "[10776.070821372232,\n",
              " 4050.679748754162,\n",
              " 2318.666778067726,\n",
              " 887.830354484192,\n",
              " 374.37277850953257,\n",
              " 304.9850176197259,\n",
              " 283.78038845475567,\n",
              " 250.72361513345743,\n",
              " 230.4018725607831,\n",
              " 215.7671159693047,\n",
              " 195.83345446723845,\n",
              " 182.20396537158422,\n",
              " 162.6856347189311,\n",
              " 150.649082307509,\n",
              " 136.91509358299362,\n",
              " 130.51714909061815,\n",
              " 113.10004412516227,\n",
              " 106.75753113283,\n",
              " 101.28627519967995,\n",
              " 92.62516689954771,\n",
              " 88.82043754338491,\n",
              " 85.10256178473188,\n",
              " 80.07446939286959,\n",
              " 75.39470248846692,\n",
              " 71.57508449791007,\n",
              " 67.20909854779617,\n",
              " 68.4331302042116,\n",
              " 60.92547346880728,\n",
              " 58.931839135405085,\n",
              " 56.44647505082507,\n",
              " 54.80415626929662,\n",
              " 51.26931573558221,\n",
              " 50.90060215548284,\n",
              " 48.018176146546125,\n",
              " 44.79979341846624,\n",
              " 42.60262046518702,\n",
              " 41.61122307864517,\n",
              " 41.215919492064536,\n",
              " 38.99666409927871,\n",
              " 37.363195422504006,\n",
              " 36.30447908183402,\n",
              " 35.9959805177147,\n",
              " 34.34151043817985,\n",
              " 33.04469414236739,\n",
              " 30.903143091779377,\n",
              " 30.593316881943785,\n",
              " 29.63720775441707,\n",
              " 28.537112327090895,\n",
              " 28.272350461391113,\n",
              " 26.084655634473126,\n",
              " 26.603271848069483,\n",
              " 25.647506911946614,\n",
              " 24.72514636488369,\n",
              " 24.009254250753905,\n",
              " 23.193537847664473,\n",
              " 21.818774889960977,\n",
              " 21.882819337441646,\n",
              " 21.208403648612865,\n",
              " 20.594162995794136,\n",
              " 19.963569724985845,\n",
              " 18.75367327374801,\n",
              " 18.497576310976694,\n",
              " 17.41762386871166,\n",
              " 17.693498125264327,\n",
              " 17.299891347636887,\n",
              " 16.720376313406902,\n",
              " 15.58122661609655,\n",
              " 15.324834494541008,\n",
              " 14.673988144657695,\n",
              " 14.466428347975464,\n",
              " 14.339256430687975,\n",
              " 13.584886660687534,\n",
              " 13.229773975396999,\n",
              " 11.992706825326252,\n",
              " 12.263497722702056,\n",
              " 11.72606359584374,\n",
              " 11.836285993267746,\n",
              " 11.609435682692036,\n",
              " 11.149024861709979,\n",
              " 10.58519381094057,\n",
              " 10.523162687299106,\n",
              " 10.094549900320782,\n",
              " 9.547513007942548,\n",
              " 9.4983739583637,\n",
              " 9.209688884600117,\n",
              " 9.039104076037598,\n",
              " 8.551743462801785,\n",
              " 8.446004089928149,\n",
              " 7.702855420269296,\n",
              " 7.765723499827146,\n",
              " 7.221226024661695,\n",
              " 7.140509779729886,\n",
              " 6.888996664517823,\n",
              " 6.954301356609405,\n",
              " 6.692271897196853,\n",
              " 6.365480028013666,\n",
              " 6.2808067126852585,\n",
              " 6.291328771227759,\n",
              " 5.800519744721996,\n",
              " 5.724232436354817,\n",
              " 5.585134082698734,\n",
              " 5.397489104151508,\n",
              " 4.95505122274685,\n",
              " 5.095945486105576,\n",
              " 4.774456220382973,\n",
              " 4.646443386345979,\n",
              " 4.667162216035621,\n",
              " 4.549744823612294,\n",
              " 4.170559251800311,\n",
              " 4.2120530989753995,\n",
              " 4.132647296336555,\n",
              " 3.8595730191880895,\n",
              " 3.8300098297431138,\n",
              " 3.7254782653166947,\n",
              " 3.52841884037581,\n",
              " 3.448932966183024,\n",
              " 3.3292806829099155,\n",
              " 3.2637218341481744,\n",
              " 3.197297190328012,\n",
              " 2.8891107395222875,\n",
              " 2.893757644986705,\n",
              " 2.8152981317812147,\n",
              " 2.6341866196697277,\n",
              " 2.735702359749707,\n",
              " 2.5542013281373253,\n",
              " 2.4409355619937196,\n",
              " 2.40807546414501,\n",
              " 2.167062975856909,\n",
              " 2.2423490725441666,\n",
              " 1.967871595046503,\n",
              " 1.9193340051997931,\n",
              " 1.8707842587434063,\n",
              " 1.8136096092577025,\n",
              " 1.783719644338329,\n",
              " 1.6296717300178658,\n",
              " 1.5760674624043065,\n",
              " 1.5823505500235293,\n",
              " 1.4651345430277096,\n",
              " 1.4375907982723148,\n",
              " 1.359991577481718,\n",
              " 1.286699730753773,\n",
              " 1.2587008291744164,\n",
              " 1.1679649574894349,\n",
              " 1.1595927375576305,\n",
              " 1.0878143883327205,\n",
              " 1.058614581151132,\n",
              " 1.0129005956012582,\n",
              " 0.9816746148948707,\n",
              " 0.9244730947585376,\n",
              " 0.8930109076953304,\n",
              " 0.8589498187982472,\n",
              " 0.819491189598899,\n",
              " 0.7896216670970312,\n",
              " 0.7345531913858683,\n",
              " 0.7246515946106239,\n",
              " 0.6734153136614844,\n",
              " 0.6558876063622139,\n",
              " 0.6105234593369817,\n",
              " 0.5864870975873913,\n",
              " 0.5524318757205732,\n",
              " 0.5284516153762876,\n",
              " 0.4994410336342643,\n",
              " 0.46679774928351203,\n",
              " 0.43845881122990604,\n",
              " 0.4148383404404622,\n",
              " 0.38816260073375597,\n",
              " 0.3568005819771327,\n",
              " 0.34857916406389333,\n",
              " 0.32428955649947067,\n",
              " 0.2995171138775595,\n",
              " 0.27797925082548536,\n",
              " 0.26500301383772623,\n",
              " 0.242103107779918,\n",
              " 0.2241985041931155,\n",
              " 0.20181826299456673,\n",
              " 0.18728958679492286,\n",
              " 0.17640585958108607,\n",
              " 0.15599882586252706,\n",
              " 0.1430214213939344,\n",
              " 0.1316447197260639,\n",
              " 0.1207609925122271,\n",
              " 0.11077449930007047,\n",
              " 0.10055644326348659,\n",
              " 0.09056995005132998,\n",
              " 0.0812559910435126,\n",
              " 0.07158383045335509,\n",
              " 0.06236857722339704,\n",
              " 0.05429603909043538,\n",
              " 0.046342616966252456,\n",
              " 0.03896076985363428,\n",
              " 0.032387117131212464,\n",
              " 0.026429004776429687,\n",
              " 0.021316762417089366,\n",
              " 0.016339681720597028,\n",
              " 0.011580004582630575,\n",
              " 0.007654567498094118,\n",
              " 0.005048967369969201,\n",
              " 0.003008599876120122,\n",
              " 0.0010986932138415187]"
            ]
          },
          "metadata": {
            "tags": []
          },
          "execution_count": 117
        }
      ]
    },
    {
      "metadata": {
        "id": "OjOVS1fJj9vt",
        "colab_type": "code",
        "colab": {
          "base_uri": "https://localhost:8080/",
          "height": 966
        },
        "outputId": "897c5cf1-7526-4f57-b218-2d111869f28a"
      },
      "cell_type": "code",
      "source": [
        "fig, ax = plt.subplots(figsize=(20,15))\n",
        "\n",
        "ax.set_xlim(-1, 200)\n",
        "ax.set_ylim(0, 11000)\n",
        "\n",
        "plt.plot(K, sum_of_squared_distances, 'bx-')\n",
        "plt.xlabel('k')\n",
        "plt.ylabel('Sum of squared distances')\n",
        "plt.title('Elbow Method For Optimal k')\n",
        "\n",
        "plt.show()"
      ],
      "execution_count": 121,
      "outputs": [
        {
          "output_type": "display_data",
          "data": {
            "image/png": "[encoded data removed]",
            "text/plain": [
              "<Figure size 1440x1080 with 1 Axes>"
            ]
          },
          "metadata": {
            "tags": []
          }
        }
      ]
    }
  ]
}